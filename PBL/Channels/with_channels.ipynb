{
 "cells": [
  {
   "cell_type": "code",
   "execution_count": 3,
   "metadata": {},
   "outputs": [
    {
     "name": "stdout",
     "output_type": "stream",
     "text": [
      "2.2.3\n"
     ]
    }
   ],
   "source": [
    "import numpy as np\n",
    "print(np.__version__)\n"
   ]
  },
  {
   "cell_type": "code",
   "execution_count": 1,
   "metadata": {},
   "outputs": [
    {
     "name": "stdout",
     "output_type": "stream",
     "text": [
      "Number of channels: 2\n"
     ]
    }
   ],
   "source": [
    "import soundfile as sf\n",
    "\n",
    "file_path = \"C:\\\\Users\\\\jadit\\\\Downloads\\\\3 (11).wav\"\n",
    "\n",
    "# Read audio file using soundfile\n",
    "data, samplerate = sf.read(file_path)\n",
    "channels = data.shape[1] if data.ndim > 1 else 1\n",
    "\n",
    "print(f\"Number of channels: {channels}\")\n"
   ]
  },
  {
   "cell_type": "code",
   "execution_count": 2,
   "metadata": {},
   "outputs": [
    {
     "name": "stdout",
     "output_type": "stream",
     "text": [
      "Found 851 WAV files.\n"
     ]
    },
    {
     "name": "stderr",
     "output_type": "stream",
     "text": [
      "Processing files: 100%|██████████| 851/851 [01:28<00:00,  9.61it/s]"
     ]
    },
    {
     "name": "stdout",
     "output_type": "stream",
     "text": [
      "\n",
      "✅ Saved extracted features to extracted_features.csv\n"
     ]
    },
    {
     "name": "stderr",
     "output_type": "stream",
     "text": [
      "\n"
     ]
    }
   ],
   "source": [
    "import os\n",
    "import numpy as np\n",
    "import pandas as pd\n",
    "import librosa\n",
    "from joblib import Parallel, delayed\n",
    "import soundfile as sf\n",
    "from tqdm import tqdm\n",
    "\n",
    "# Path to the root directory containing subdirectories with WAV files\n",
    "ROOT_DIR = 'test'\n",
    "OUTPUT_CSV = 'extracted_features.csv'\n",
    "SPEED_OF_SOUND = 343  # Speed of sound in m/s\n",
    "\n",
    "def compute_tdoa(y, sr):\n",
    "    if y.ndim < 2:\n",
    "        return None\n",
    "    \n",
    "    # Split into left and right channels\n",
    "    channel_1 = y[:, 0]\n",
    "    channel_2 = y[:, 1]\n",
    "    \n",
    "    correlation = np.correlate(channel_1, channel_2, mode=\"full\")\n",
    "    delay = np.argmax(correlation) - (len(channel_1) - 1)\n",
    "    \n",
    "    tdoa = delay / sr\n",
    "    return tdoa\n",
    "\n",
    "def extract_features(file_path):\n",
    "    try:\n",
    "        y, sr = librosa.load(file_path, sr=None, mono=False)\n",
    "        if y.ndim == 1:  # Convert mono to stereo for TDOA\n",
    "            y = np.stack([y, y], axis=0)\n",
    "            \n",
    "        if np.all(y == 0):\n",
    "            print(f\"Skipping silent file: {file_path}\")\n",
    "            return None\n",
    "\n",
    "        # TDOA\n",
    "        tdoa = compute_tdoa(y, sr)\n",
    "\n",
    "        # Zero Crossing Rate\n",
    "        zcr = np.mean(librosa.feature.zero_crossing_rate(y[0]))\n",
    "\n",
    "        # Spectral Features\n",
    "        spectral_centroid = np.mean(librosa.feature.spectral_centroid(y=y[0], sr=sr))\n",
    "        spectral_bandwidth = np.mean(librosa.feature.spectral_bandwidth(y=y[0], sr=sr))\n",
    "        spectral_rolloff = np.mean(librosa.feature.spectral_rolloff(y=y[0], sr=sr))\n",
    "        spectral_contrast = np.mean(librosa.feature.spectral_contrast(y=y[0], sr=sr))\n",
    "\n",
    "        # Entropy of Energy\n",
    "        ste = np.sum(y[0]**2) / len(y[0])\n",
    "        entropy_energy = -np.sum((y[0]**2 / ste) * np.log2(y[0]**2 / ste + 1e-10))\n",
    "\n",
    "        # MFCCs (First 5)\n",
    "        mfccs = librosa.feature.mfcc(y=y[0], sr=sr, n_mfcc=5).mean(axis=1)\n",
    "\n",
    "        # Result in dictionary form\n",
    "        result = {\n",
    "            \"Filename\": os.path.basename(file_path),\n",
    "            \"TDOA\": tdoa,\n",
    "            \"Zero_Crossing_Rate\": zcr,\n",
    "            \"Spectral_Centroid\": spectral_centroid,\n",
    "            \"Spectral_Bandwidth\": spectral_bandwidth,\n",
    "            \"Spectral_Contrast\": spectral_contrast,\n",
    "            \"Spectral_Rolloff\": spectral_rolloff,\n",
    "            \"Entropy_Energy\": entropy_energy,\n",
    "            \"Short_Time_Energy\": ste,\n",
    "            \"MFCC_1\": mfccs[0],\n",
    "            \"MFCC_2\": mfccs[1],\n",
    "            \"MFCC_3\": mfccs[2],\n",
    "            \"MFCC_4\": mfccs[3],\n",
    "            \"MFCC_5\": mfccs[4]\n",
    "        }\n",
    "        return result\n",
    "\n",
    "    except Exception as e:\n",
    "        print(f\"Error processing {file_path}: {e}\")\n",
    "        return None\n",
    "\n",
    "def get_wav_files(root_dir):\n",
    "    wav_files = []\n",
    "    for root, _, files in os.walk(root_dir):\n",
    "        for file in files:\n",
    "            if file.endswith('.wav'):\n",
    "                wav_files.append(os.path.join(root, file))\n",
    "    return wav_files\n",
    "\n",
    "def main():\n",
    "    wav_files = get_wav_files(ROOT_DIR)\n",
    "    print(f\"Found {len(wav_files)} WAV files.\")\n",
    "\n",
    "    results = []\n",
    "    # Use tqdm to track progress\n",
    "    for file in tqdm(wav_files, desc=\"Processing files\"):\n",
    "        result = extract_features(file)\n",
    "        if result is not None:\n",
    "            results.append(result)\n",
    "\n",
    "    # Convert to DataFrame and Save\n",
    "    df = pd.DataFrame(results)\n",
    "    df.to_csv(OUTPUT_CSV, index=False)\n",
    "    print(f\"\\n✅ Saved extracted features to {OUTPUT_CSV}\")\n",
    "\n",
    "if __name__ == \"__main__\":\n",
    "    main()\n"
   ]
  },
  {
   "cell_type": "code",
   "execution_count": null,
   "metadata": {},
   "outputs": [
    {
     "name": "stdout",
     "output_type": "stream",
     "text": [
      "Found 851 WAV files.\n"
     ]
    },
    {
     "name": "stderr",
     "output_type": "stream",
     "text": [
      "Processing files:   6%|▌         | 52/851 [01:06<15:34,  1.17s/it] "
     ]
    }
   ],
   "source": [
    "import os\n",
    "import numpy as np\n",
    "import pandas as pd\n",
    "import librosa\n",
    "from joblib import Parallel, delayed\n",
    "import soundfile as sf\n",
    "from tqdm import tqdm\n",
    "\n",
    "# Path to the root directory containing subdirectories with WAV files\n",
    "ROOT_DIR = 'test'\n",
    "OUTPUT_CSV = 'extracted_features_with_TDOA.csv'\n",
    "SPEED_OF_SOUND = 343  # Speed of sound in m/s\n",
    "\n",
    "def add_time_delay(y, sr, delay_sec=0.001):  # Default delay = 1ms\n",
    "    \"\"\"Add a time delay to the second channel to simulate DOA conditions.\"\"\"\n",
    "    delay_samples = int(delay_sec * sr)\n",
    "\n",
    "    # Pad the delayed signal to maintain array length\n",
    "    delayed_channel = np.pad(y[1], (delay_samples, 0))[:len(y[1])]\n",
    "    \n",
    "    return np.vstack([y[0], delayed_channel])\n",
    "\n",
    "def compute_tdoa(y, sr):\n",
    "    if y.ndim < 2:\n",
    "        return None\n",
    "    \n",
    "    # Split into left and right channels\n",
    "    channel_1 = y[0]\n",
    "    channel_2 = y[1]\n",
    "    \n",
    "    correlation = np.correlate(channel_1, channel_2, mode=\"full\")\n",
    "    delay = np.argmax(correlation) - (len(channel_1) - 1)\n",
    "    \n",
    "    tdoa = delay / sr\n",
    "    return tdoa\n",
    "\n",
    "def extract_features(file_path):\n",
    "    try:\n",
    "        y, sr = librosa.load(file_path, sr=None, mono=False)\n",
    "        if y.ndim == 1:  # Convert mono to stereo for TDOA\n",
    "            y = np.stack([y, y], axis=0)\n",
    "            \n",
    "        if np.all(y == 0):\n",
    "            print(f\"Skipping silent file: {file_path}\")\n",
    "            return None\n",
    "\n",
    "        # Add Time Delay for DOA Simulation\n",
    "        y = add_time_delay(y, sr, delay_sec=0.001)  # Delay of 1ms (adjustable)\n",
    "\n",
    "        # TDOA\n",
    "        tdoa = compute_tdoa(y, sr)\n",
    "\n",
    "        # Zero Crossing Rate\n",
    "        zcr = np.mean(librosa.feature.zero_crossing_rate(y[0]))\n",
    "\n",
    "        # Spectral Features\n",
    "        spectral_centroid = np.mean(librosa.feature.spectral_centroid(y=y[0], sr=sr))\n",
    "        spectral_bandwidth = np.mean(librosa.feature.spectral_bandwidth(y=y[0], sr=sr))\n",
    "        spectral_rolloff = np.mean(librosa.feature.spectral_rolloff(y=y[0], sr=sr))\n",
    "        spectral_contrast = np.mean(librosa.feature.spectral_contrast(y=y[0], sr=sr))\n",
    "\n",
    "        # Entropy of Energy\n",
    "        ste = np.sum(y[0]**2) / len(y[0])\n",
    "        entropy_energy = -np.sum((y[0]**2 / ste) * np.log2(y[0]**2 / ste + 1e-10))\n",
    "\n",
    "        # MFCCs (First 5)\n",
    "        mfccs = librosa.feature.mfcc(y=y[0], sr=sr, n_mfcc=5).mean(axis=1)\n",
    "\n",
    "        # Result in dictionary form\n",
    "        result = {\n",
    "            \"Filename\": os.path.basename(file_path),\n",
    "            \"TDOA\": tdoa,\n",
    "            \"Zero_Crossing_Rate\": zcr,\n",
    "            \"Spectral_Centroid\": spectral_centroid,\n",
    "            \"Spectral_Bandwidth\": spectral_bandwidth,\n",
    "            \"Spectral_Contrast\": spectral_contrast,\n",
    "            \"Spectral_Rolloff\": spectral_rolloff,\n",
    "            \"Entropy_Energy\": entropy_energy,\n",
    "            \"Short_Time_Energy\": ste,\n",
    "            \"MFCC_1\": mfccs[0],\n",
    "            \"MFCC_2\": mfccs[1],\n",
    "            \"MFCC_3\": mfccs[2],\n",
    "            \"MFCC_4\": mfccs[3],\n",
    "            \"MFCC_5\": mfccs[4]\n",
    "        }\n",
    "        return result\n",
    "\n",
    "    except Exception as e:\n",
    "        print(f\"Error processing {file_path}: {e}\")\n",
    "        return None\n",
    "\n",
    "def get_wav_files(root_dir):\n",
    "    wav_files = []\n",
    "    for root, _, files in os.walk(root_dir):\n",
    "        for file in files:\n",
    "            if file.endswith('.wav'):\n",
    "                wav_files.append(os.path.join(root, file))\n",
    "    return wav_files\n",
    "\n",
    "def main():\n",
    "    wav_files = get_wav_files(ROOT_DIR)\n",
    "    print(f\"Found {len(wav_files)} WAV files.\")\n",
    "\n",
    "    results = []\n",
    "    # Use tqdm to track progress\n",
    "    for file in tqdm(wav_files, desc=\"Processing files\"):\n",
    "        result = extract_features(file)\n",
    "        if result is not None:\n",
    "            results.append(result)\n",
    "\n",
    "    # Convert to DataFrame and Save\n",
    "    df = pd.DataFrame(results)\n",
    "    df.to_csv(OUTPUT_CSV, index=False)\n",
    "    print(f\"\\n✅ Saved extracted features to {OUTPUT_CSV}\")\n",
    "\n",
    "if __name__ == \"__main__\":\n",
    "    main()\n"
   ]
  },
  {
   "cell_type": "code",
   "execution_count": 5,
   "metadata": {},
   "outputs": [
    {
     "name": "stdout",
     "output_type": "stream",
     "text": [
      "Converted 'BGG1_features_output.xlsx' to 'BGG_features_output.csv'\n"
     ]
    }
   ],
   "source": [
    "import pandas as pd\n",
    "\n",
    "# Load the XLSX file\n",
    "input_file = 'BGG1_features_output.xlsx'\n",
    "output_file = 'BGG_features_output.csv'\n",
    "\n",
    "# Read Excel file\n",
    "df = pd.read_excel(input_file)\n",
    "\n",
    "# Save as CSV\n",
    "df.to_csv(output_file, index=False)\n",
    "\n",
    "print(f\"Converted '{input_file}' to '{output_file}'\")\n"
   ]
  },
  {
   "cell_type": "code",
   "execution_count": 11,
   "metadata": {},
   "outputs": [
    {
     "name": "stderr",
     "output_type": "stream",
     "text": [
      "Processing WAV files:   0%|          | 0/98 [00:00<?, ?it/s]C:\\Users\\jadit\\AppData\\Local\\Packages\\PythonSoftwareFoundation.Python.3.11_qbz5n2kfra8p0\\LocalCache\\local-packages\\Python311\\site-packages\\librosa\\core\\spectrum.py:266: UserWarning: n_fft=2048 is too large for input signal of length=2\n",
      "  warnings.warn(\n",
      "Processing WAV files: 100%|██████████| 98/98 [00:11<00:00,  8.84it/s]\n"
     ]
    },
    {
     "name": "stdout",
     "output_type": "stream",
     "text": [
      "\n",
      "Features saved to AK-12.csv\n"
     ]
    },
    {
     "name": "stderr",
     "output_type": "stream",
     "text": [
      "Processing WAV files:  31%|███       | 22/72 [00:02<00:05,  9.15it/s]C:\\Users\\jadit\\AppData\\Local\\Temp\\ipykernel_13580\\585871090.py:52: RuntimeWarning: invalid value encountered in divide\n",
      "  prob_energy = energy / np.sum(energy)\n",
      "Processing WAV files: 100%|██████████| 72/72 [00:07<00:00,  9.11it/s]\n"
     ]
    },
    {
     "name": "stdout",
     "output_type": "stream",
     "text": [
      "\n",
      "Features saved to AK-47.csv\n"
     ]
    },
    {
     "name": "stderr",
     "output_type": "stream",
     "text": [
      "Processing WAV files: 100%|██████████| 100/100 [00:11<00:00,  9.08it/s]\n"
     ]
    },
    {
     "name": "stdout",
     "output_type": "stream",
     "text": [
      "\n",
      "Features saved to IMI Desert Eagle.csv\n"
     ]
    },
    {
     "name": "stderr",
     "output_type": "stream",
     "text": [
      "Processing WAV files: 100%|██████████| 100/100 [00:11<00:00,  9.08it/s]\n"
     ]
    },
    {
     "name": "stdout",
     "output_type": "stream",
     "text": [
      "\n",
      "Features saved to M16.csv\n"
     ]
    },
    {
     "name": "stderr",
     "output_type": "stream",
     "text": [
      "Processing WAV files: 100%|██████████| 99/99 [00:10<00:00,  9.07it/s]\n"
     ]
    },
    {
     "name": "stdout",
     "output_type": "stream",
     "text": [
      "\n",
      "Features saved to M249.csv\n"
     ]
    },
    {
     "name": "stderr",
     "output_type": "stream",
     "text": [
      "Processing WAV files: 100%|██████████| 100/100 [00:10<00:00,  9.14it/s]\n"
     ]
    },
    {
     "name": "stdout",
     "output_type": "stream",
     "text": [
      "\n",
      "Features saved to M4.csv\n"
     ]
    },
    {
     "name": "stderr",
     "output_type": "stream",
     "text": [
      "Processing WAV files: 100%|██████████| 100/100 [00:11<00:00,  9.08it/s]\n"
     ]
    },
    {
     "name": "stdout",
     "output_type": "stream",
     "text": [
      "\n",
      "Features saved to MG-42.csv\n"
     ]
    },
    {
     "name": "stderr",
     "output_type": "stream",
     "text": [
      "Processing WAV files: 100%|██████████| 100/100 [00:10<00:00,  9.16it/s]\n"
     ]
    },
    {
     "name": "stdout",
     "output_type": "stream",
     "text": [
      "\n",
      "Features saved to MP5.csv\n"
     ]
    },
    {
     "name": "stderr",
     "output_type": "stream",
     "text": [
      "Processing WAV files: 100%|██████████| 82/82 [00:08<00:00,  9.20it/s]"
     ]
    },
    {
     "name": "stdout",
     "output_type": "stream",
     "text": [
      "\n",
      "Features saved to Zastava M92.csv\n"
     ]
    },
    {
     "name": "stderr",
     "output_type": "stream",
     "text": [
      "\n"
     ]
    }
   ],
   "source": [
    "import os\n",
    "import numpy as np\n",
    "import pandas as pd\n",
    "import librosa\n",
    "import gc\n",
    "from tqdm import tqdm\n",
    "import soundfile as sf\n",
    "\n",
    "# Reduce numba thread conflicts\n",
    "os.environ[\"NUMBA_NUM_THREADS\"] = \"1\"\n",
    "\n",
    "# Bias range for TDOA_1_2\n",
    "BIAS_1_2 = (-2e-5, 2e-5)\n",
    "\n",
    "def compute_tdoa(audio, sr):\n",
    "    if audio.shape[0] < 2:\n",
    "        return None\n",
    "    \n",
    "    channel_1 = audio[0, :]\n",
    "    channel_2 = audio[1, :]\n",
    "    \n",
    "    correlation = np.correlate(channel_1, channel_2, mode=\"full\")\n",
    "    delay = np.argmax(correlation) - (len(channel_1) - 1)\n",
    "    tdoa = delay / sr\n",
    "    return tdoa\n",
    "\n",
    "def extract_features(file_path):\n",
    "    try:\n",
    "        # Load using soundfile to avoid memory overflow\n",
    "        with sf.SoundFile(file_path) as f:\n",
    "            y = f.read(always_2d=True)\n",
    "            sr = f.samplerate\n",
    "\n",
    "        if y.shape[0] == 1:\n",
    "            y = np.array([y[0], y[0]])  # Duplicate channel for mono files\n",
    "        \n",
    "        # TDOA calculation (only 1_2)\n",
    "        tdoa_1_2 = compute_tdoa(y, sr) or 0\n",
    "        tdoa_1_2 += np.random.uniform(*BIAS_1_2)  # ✅ Add small bias\n",
    "        \n",
    "        # Zero Crossing Rate\n",
    "        zcr = np.mean(librosa.feature.zero_crossing_rate(y[0]))\n",
    "        \n",
    "        # Spectral Features\n",
    "        spectral_centroid = np.mean(librosa.feature.spectral_centroid(y=y[0], sr=sr))\n",
    "        spectral_bandwidth = np.mean(librosa.feature.spectral_bandwidth(y=y[0], sr=sr))\n",
    "        spectral_contrast = np.mean(librosa.feature.spectral_contrast(y=y[0], sr=sr))\n",
    "        spectral_rolloff = np.mean(librosa.feature.spectral_rolloff(y=y[0], sr=sr))\n",
    "\n",
    "        # Entropy of Energy\n",
    "        energy = np.square(y[0])\n",
    "        prob_energy = energy / np.sum(energy)\n",
    "        entropy_energy = -np.sum(prob_energy * np.log2(prob_energy + 1e-10))\n",
    "\n",
    "        # Short-Time Energy\n",
    "        ste = np.mean(energy)\n",
    "\n",
    "        # MFCCs (First 5)\n",
    "        mfccs = librosa.feature.mfcc(y=y[0], sr=sr, n_mfcc=5)\n",
    "        mfccs = [np.mean(mfccs[i]) for i in range(5)]\n",
    "\n",
    "        result = {\n",
    "            \"Filename\": os.path.basename(file_path),\n",
    "            \"TDOA_1_2\": tdoa_1_2,\n",
    "            \"Zero_Crossing_Rate\": zcr,\n",
    "            \"Spectral_Centroid\": spectral_centroid,\n",
    "            \"Spectral_Bandwidth\": spectral_bandwidth,\n",
    "            \"Spectral_Contrast\": spectral_contrast,\n",
    "            \"Spectral_Rolloff\": spectral_rolloff,\n",
    "            \"Entropy_Energy\": entropy_energy,\n",
    "            \"Short_Time_Energy\": ste,\n",
    "            \"MFCC_1\": mfccs[0],\n",
    "            \"MFCC_2\": mfccs[1],\n",
    "            \"MFCC_3\": mfccs[2],\n",
    "            \"MFCC_4\": mfccs[3],\n",
    "            \"MFCC_5\": mfccs[4]\n",
    "        }\n",
    "\n",
    "        return result\n",
    "\n",
    "    except Exception as e:\n",
    "        print(f\"Skipping {file_path} due to error: {e}\")\n",
    "        return None\n",
    "\n",
    "def process_directory(input_dir, output_csv):\n",
    "    data = []\n",
    "    wav_files = [f for f in os.listdir(input_dir) if f.endswith('.wav')]\n",
    "\n",
    "    for file in tqdm(wav_files, desc=\"Processing WAV files\"):\n",
    "        file_path = os.path.join(input_dir, file)\n",
    "        result = extract_features(file_path)\n",
    "        if result:\n",
    "            data.append(result)\n",
    "\n",
    "        # Free up memory\n",
    "        gc.collect()\n",
    "\n",
    "    df = pd.DataFrame(data)\n",
    "    df.to_csv(output_csv, index=False)\n",
    "    print(f\"\\nFeatures saved to {output_csv}\")\n",
    "\n",
    "# Path to directory containing WAV files\n",
    "INPUT_DIR = \"test/AK-12\"\n",
    "OUTPUT_CSV =['AK-12',\n",
    " 'AK-47',\n",
    " 'IMI Desert Eagle',\n",
    " 'M16',\n",
    " 'M249',\n",
    " 'M4',\n",
    " 'MG-42',\n",
    " 'MP5',\n",
    " 'Zastava M92']\n",
    "dir_list=['AK-12',\n",
    " 'AK-47',\n",
    " 'IMI Desert Eagle',\n",
    " 'M16',\n",
    " 'M249',\n",
    " 'M4',\n",
    " 'MG-42',\n",
    " 'MP5',\n",
    " 'Zastava M92']\n",
    "# process_directory(INPUT_DIR, OUTPUT_CSV)\n",
    "for i in range(len(dir_list)):\n",
    "    process_directory('test/'+dir_list[i], OUTPUT_CSV[i]+\".csv\")\n",
    "\n"
   ]
  },
  {
   "cell_type": "code",
   "execution_count": 9,
   "metadata": {},
   "outputs": [
    {
     "data": {
      "text/plain": [
       "['AK-12',\n",
       " 'AK-47',\n",
       " 'IMI Desert Eagle',\n",
       " 'M16',\n",
       " 'M249',\n",
       " 'M4',\n",
       " 'MG-42',\n",
       " 'MP5',\n",
       " 'Zastava M92']"
      ]
     },
     "execution_count": 9,
     "metadata": {},
     "output_type": "execute_result"
    }
   ],
   "source": [
    "os.listdir('test/')"
   ]
  },
  {
   "cell_type": "code",
   "execution_count": 12,
   "metadata": {},
   "outputs": [
    {
     "name": "stdout",
     "output_type": "stream",
     "text": [
      "Combined CSV saved to combined_features.csv\n"
     ]
    }
   ],
   "source": [
    "import os\n",
    "import pandas as pd\n",
    "import glob\n",
    "\n",
    "# Path to the directory containing CSV files\n",
    "input_dir = 'ALLCSV'\n",
    "output_file = 'combined_features.csv'\n",
    "\n",
    "# Get all CSV files in the directory\n",
    "csv_files = glob.glob(os.path.join(input_dir, '*.csv'))\n",
    "\n",
    "# Read and combine all CSVs\n",
    "combined_df = pd.concat([pd.read_csv(file) for file in csv_files], ignore_index=True)\n",
    "\n",
    "# Save to a new CSV file\n",
    "combined_df.to_csv(output_file, index=False)\n",
    "\n",
    "print(f\"Combined CSV saved to {output_file}\")\n"
   ]
  }
 ],
 "metadata": {
  "kernelspec": {
   "display_name": "Python 3",
   "language": "python",
   "name": "python3"
  },
  "language_info": {
   "codemirror_mode": {
    "name": "ipython",
    "version": 3
   },
   "file_extension": ".py",
   "mimetype": "text/x-python",
   "name": "python",
   "nbconvert_exporter": "python",
   "pygments_lexer": "ipython3",
   "version": "3.11.9"
  }
 },
 "nbformat": 4,
 "nbformat_minor": 2
}
